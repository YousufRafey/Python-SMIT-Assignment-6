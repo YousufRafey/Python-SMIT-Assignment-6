{
 "cells": [
  {
   "cell_type": "code",
   "execution_count": 1,
   "id": "baf52424-0df7-4964-99c5-d1dd174de987",
   "metadata": {},
   "outputs": [
    {
     "data": {
      "text/plain": [
       "28.322999999999997"
      ]
     },
     "execution_count": 1,
     "metadata": {},
     "output_type": "execute_result"
    }
   ],
   "source": [
    "class circle:\n",
    "    def __init__(self,radius):\n",
    "        self.radius=radius\n",
    "    def calculate_area(self):\n",
    "        pi=3.147\n",
    "        ans=pi*self.radius**2\n",
    "        return ans\n",
    "c1=circle(3)\n",
    "c1.calculate_area()"
   ]
  },
  {
   "cell_type": "code",
   "execution_count": 2,
   "id": "f925912d-fb61-4ff2-bc71-f5ac8d553fae",
   "metadata": {},
   "outputs": [
    {
     "data": {
      "text/plain": [
       "21"
      ]
     },
     "execution_count": 2,
     "metadata": {},
     "output_type": "execute_result"
    }
   ],
   "source": [
    "class person:\n",
    "    def __init__(self,name,country,dateOfBirth):\n",
    "        self.name=name\n",
    "        self.country=country\n",
    "        self.dateOfBirth=dateOfBirth\n",
    "    def Details(self,currentAge):\n",
    "        return currentAge-self.dateOfBirth\n",
    "            \n",
    "p=person(\"Yousuf Rafey\",\"Pakistan\",2004)\n",
    "p.Details(2025)"
   ]
  },
  {
   "cell_type": "code",
   "execution_count": 3,
   "id": "58308cbd-d854-49eb-a1c9-d751427b4024",
   "metadata": {},
   "outputs": [
    {
     "data": {
      "text/plain": [
       "25"
      ]
     },
     "execution_count": 3,
     "metadata": {},
     "output_type": "execute_result"
    }
   ],
   "source": [
    "class calculator:\n",
    "    def __init__(self,x,y,op):\n",
    "        self.x=x\n",
    "        self.y=y\n",
    "        self.op=op\n",
    "    def Solution(self):\n",
    "        if self.op==\"+\":\n",
    "            return self.x+self.y\n",
    "            \n",
    "        elif self.op==\"-\":\n",
    "            return self.x-self.y\n",
    "            \n",
    "        elif self.op==\"*\":\n",
    "            return self.x*self.y\n",
    "            \n",
    "        elif self.op==\"/\":\n",
    "            return self.x/self.y\n",
    "\n",
    "c1=calculator(5,5,\"*\")\n",
    "c1.Solution()"
   ]
  },
  {
   "cell_type": "code",
   "execution_count": null,
   "id": "71c3523a-f0e3-4f32-a371-bf5bd0117633",
   "metadata": {},
   "outputs": [],
   "source": []
  }
 ],
 "metadata": {
  "kernelspec": {
   "display_name": "Python 3 (ipykernel)",
   "language": "python",
   "name": "python3"
  },
  "language_info": {
   "codemirror_mode": {
    "name": "ipython",
    "version": 3
   },
   "file_extension": ".py",
   "mimetype": "text/x-python",
   "name": "python",
   "nbconvert_exporter": "python",
   "pygments_lexer": "ipython3",
   "version": "3.13.5"
  }
 },
 "nbformat": 4,
 "nbformat_minor": 5
}
